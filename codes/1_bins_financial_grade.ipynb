{
 "cells": [
  {
   "cell_type": "markdown",
   "metadata": {},
   "source": [
    "# 1. import dataset"
   ]
  },
  {
   "cell_type": "code",
   "execution_count": 1,
   "metadata": {},
   "outputs": [],
   "source": [
    "import numpy as np\n",
    "import pandas as pd"
   ]
  },
  {
   "cell_type": "markdown",
   "metadata": {},
   "source": [
    "# 2. import dataset\n",
    "* input dataset has 110510 rows and 15 columns \n",
    "* financial performance is analyzed\n",
    "* grade is analyzed"
   ]
  },
  {
   "cell_type": "code",
   "execution_count": 2,
   "metadata": {},
   "outputs": [
    {
     "name": "stderr",
     "output_type": "stream",
     "text": [
      "C:\\Users\\Lenovo\\anaconda3\\lib\\site-packages\\IPython\\core\\interactiveshell.py:3146: DtypeWarning: Columns (94) have mixed types.Specify dtype option on import or set low_memory=False.\n",
      "  has_raised = await self.run_ast_nodes(code_ast.body, cell_name,\n"
     ]
    },
    {
     "data": {
      "text/plain": [
       "(110510, 15)"
      ]
     },
     "execution_count": 2,
     "metadata": {},
     "output_type": "execute_result"
    }
   ],
   "source": [
    "df = pd.read_csv('../inputs/fossilfund_dataset.csv')\n",
    "df = df[['Fund profile: Fund name','Fund profile: Category group','Fund profile: Sustainability mandate','Fund profile: US-SIF member',\n",
    "         'Fund profile: Fund net assets','Financial performance: Month end trailing returns, year 1','Financial performance: Month end trailing returns, year 3',\n",
    "         'Financial performance: Month end trailing returns, year 5','Fossil Free Funds: Fossil fuel grade','Deforestation Free Funds: Deforestation grade',\n",
    "         'Gender Equality Funds: Gender equality grade','Gun Free Funds: Civilian firearm grade','Weapon Free Funds: Military weapon grade',\n",
    "         'Tobacco Free Funds: Tobacco grade','Prison Free Funds: Prison industrial complex grade']]\n",
    "df.shape"
   ]
  },
  {
   "cell_type": "code",
   "execution_count": 3,
   "metadata": {},
   "outputs": [
    {
     "data": {
      "text/plain": [
       "(110510, 15)"
      ]
     },
     "execution_count": 3,
     "metadata": {},
     "output_type": "execute_result"
    }
   ],
   "source": [
    "df['Fossil Free Funds: Fossil fuel grade'] = np.where(df['Fossil Free Funds: Fossil fuel grade'].isin(['A','B']),0,\n",
    "                                                      np.where(df['Fossil Free Funds: Fossil fuel grade'].isin(['F']),2,1))\n",
    "df['Deforestation Free Funds: Deforestation grade'] = np.where(df['Deforestation Free Funds: Deforestation grade'].isin(['A','B']),0,\n",
    "                                                               np.where(df['Deforestation Free Funds: Deforestation grade'].isin(['F']),2,1))\n",
    "df['Gender Equality Funds: Gender equality grade'] = np.where(df['Gender Equality Funds: Gender equality grade'].isin(['A','B']),0,\n",
    "                                                              np.where(df['Gender Equality Funds: Gender equality grade'].isin(['F']),2,1))\n",
    "df['Gun Free Funds: Civilian firearm grade'] = np.where(df['Gun Free Funds: Civilian firearm grade'].isin(['A','B']),0,\n",
    "                                                        np.where(df['Gun Free Funds: Civilian firearm grade'].isin(['F']),2,1))\n",
    "df['Weapon Free Funds: Military weapon grade'] = np.where(df['Weapon Free Funds: Military weapon grade'].isin(['A','B']),0,\n",
    "                                                          np.where(df['Weapon Free Funds: Military weapon grade'].isin(['F']),2,1))\n",
    "df['Tobacco Free Funds: Tobacco grade'] = np.where(df['Tobacco Free Funds: Tobacco grade'].isin(['A','B']),0,\n",
    "                                                   np.where(df['Tobacco Free Funds: Tobacco grade'].isin(['F']),2,1))\n",
    "df['Prison Free Funds: Prison industrial complex grade'] = np.where(df['Prison Free Funds: Prison industrial complex grade'].isin(['A','B']),0,\n",
    "                                                                    np.where(df['Prison Free Funds: Prison industrial complex grade'].isin(['F']),2,1))\n",
    "df.shape"
   ]
  },
  {
   "cell_type": "code",
   "execution_count": 4,
   "metadata": {
    "scrolled": true
   },
   "outputs": [
    {
     "data": {
      "text/plain": [
       "(75, 15)"
      ]
     },
     "execution_count": 4,
     "metadata": {},
     "output_type": "execute_result"
    }
   ],
   "source": [
    "df = df.groupby(['Fund profile: Fund name','Fund profile: Category group','Fund profile: Sustainability mandate',\n",
    "                 'Fund profile: US-SIF member']).agg({'Fund profile: Fund net assets':'median',\n",
    "                                                      'Financial performance: Month end trailing returns, year 1':'median',\n",
    "                                                      'Financial performance: Month end trailing returns, year 3':'median',\n",
    "                                                      'Financial performance: Month end trailing returns, year 5':'median',\n",
    "                                                      'Fossil Free Funds: Fossil fuel grade':'median',\n",
    "                                                      'Deforestation Free Funds: Deforestation grade':'median',\n",
    "                                                      'Gender Equality Funds: Gender equality grade':'median',\n",
    "                                                      'Gun Free Funds: Civilian firearm grade':'median',\n",
    "                                                      'Weapon Free Funds: Military weapon grade':'median',\n",
    "                                                      'Tobacco Free Funds: Tobacco grade':'median',\n",
    "                                                      'Prison Free Funds: Prison industrial complex grade':'median'}).reset_index()\n",
    "\n",
    "df.to_csv('../inputs/1_drop_duplicates.csv', index=False)\n",
    "df.shape"
   ]
  },
  {
   "cell_type": "markdown",
   "metadata": {},
   "source": [
    "# 3. Financial performance\n",
    "* missing value imputation - with average \n",
    "* bins - top 20%ile, mid 20%ile to 50%ile and bottom 50%ile"
   ]
  },
  {
   "cell_type": "code",
   "execution_count": 5,
   "metadata": {},
   "outputs": [
    {
     "data": {
      "text/html": [
       "<div>\n",
       "<style scoped>\n",
       "    .dataframe tbody tr th:only-of-type {\n",
       "        vertical-align: middle;\n",
       "    }\n",
       "\n",
       "    .dataframe tbody tr th {\n",
       "        vertical-align: top;\n",
       "    }\n",
       "\n",
       "    .dataframe thead th {\n",
       "        text-align: right;\n",
       "    }\n",
       "</style>\n",
       "<table border=\"1\" class=\"dataframe\">\n",
       "  <thead>\n",
       "    <tr style=\"text-align: right;\">\n",
       "      <th></th>\n",
       "      <th>count</th>\n",
       "      <th>mean</th>\n",
       "      <th>std</th>\n",
       "      <th>min</th>\n",
       "      <th>50%</th>\n",
       "      <th>80%</th>\n",
       "      <th>max</th>\n",
       "    </tr>\n",
       "  </thead>\n",
       "  <tbody>\n",
       "    <tr>\n",
       "      <th>Financial performance: Month end trailing returns, year 1</th>\n",
       "      <td>75.0</td>\n",
       "      <td>8.915470</td>\n",
       "      <td>11.418853</td>\n",
       "      <td>-17.004200</td>\n",
       "      <td>9.80015</td>\n",
       "      <td>18.113940</td>\n",
       "      <td>37.484015</td>\n",
       "    </tr>\n",
       "    <tr>\n",
       "      <th>Financial performance: Month end trailing returns, year 3</th>\n",
       "      <td>73.0</td>\n",
       "      <td>7.909641</td>\n",
       "      <td>5.450656</td>\n",
       "      <td>-2.488995</td>\n",
       "      <td>8.15726</td>\n",
       "      <td>12.091252</td>\n",
       "      <td>20.513385</td>\n",
       "    </tr>\n",
       "    <tr>\n",
       "      <th>Financial performance: Month end trailing returns, year 5</th>\n",
       "      <td>61.0</td>\n",
       "      <td>9.067412</td>\n",
       "      <td>4.713735</td>\n",
       "      <td>0.344705</td>\n",
       "      <td>9.43515</td>\n",
       "      <td>12.786220</td>\n",
       "      <td>19.721190</td>\n",
       "    </tr>\n",
       "  </tbody>\n",
       "</table>\n",
       "</div>"
      ],
      "text/plain": [
       "                                                    count      mean  \\\n",
       "Financial performance: Month end trailing retur...   75.0  8.915470   \n",
       "Financial performance: Month end trailing retur...   73.0  7.909641   \n",
       "Financial performance: Month end trailing retur...   61.0  9.067412   \n",
       "\n",
       "                                                          std        min  \\\n",
       "Financial performance: Month end trailing retur...  11.418853 -17.004200   \n",
       "Financial performance: Month end trailing retur...   5.450656  -2.488995   \n",
       "Financial performance: Month end trailing retur...   4.713735   0.344705   \n",
       "\n",
       "                                                        50%        80%  \\\n",
       "Financial performance: Month end trailing retur...  9.80015  18.113940   \n",
       "Financial performance: Month end trailing retur...  8.15726  12.091252   \n",
       "Financial performance: Month end trailing retur...  9.43515  12.786220   \n",
       "\n",
       "                                                          max  \n",
       "Financial performance: Month end trailing retur...  37.484015  \n",
       "Financial performance: Month end trailing retur...  20.513385  \n",
       "Financial performance: Month end trailing retur...  19.721190  "
      ]
     },
     "execution_count": 5,
     "metadata": {},
     "output_type": "execute_result"
    }
   ],
   "source": [
    "df1 = df[['Financial performance: Month end trailing returns, year 1','Financial performance: Month end trailing returns, year 3',\n",
    "          'Financial performance: Month end trailing returns, year 5']]\n",
    "df1.describe(percentiles=[0.5,0.8]).transpose()"
   ]
  },
  {
   "cell_type": "code",
   "execution_count": 6,
   "metadata": {},
   "outputs": [
    {
     "data": {
      "text/html": [
       "<div>\n",
       "<style scoped>\n",
       "    .dataframe tbody tr th:only-of-type {\n",
       "        vertical-align: middle;\n",
       "    }\n",
       "\n",
       "    .dataframe tbody tr th {\n",
       "        vertical-align: top;\n",
       "    }\n",
       "\n",
       "    .dataframe thead th {\n",
       "        text-align: right;\n",
       "    }\n",
       "</style>\n",
       "<table border=\"1\" class=\"dataframe\">\n",
       "  <thead>\n",
       "    <tr style=\"text-align: right;\">\n",
       "      <th></th>\n",
       "      <th>Financial performance</th>\n",
       "      <th>Fund profile: Fund name</th>\n",
       "    </tr>\n",
       "  </thead>\n",
       "  <tbody>\n",
       "    <tr>\n",
       "      <th>0</th>\n",
       "      <td>a. top</td>\n",
       "      <td>6</td>\n",
       "    </tr>\n",
       "    <tr>\n",
       "      <th>1</th>\n",
       "      <td>b. mid</td>\n",
       "      <td>24</td>\n",
       "    </tr>\n",
       "    <tr>\n",
       "      <th>2</th>\n",
       "      <td>c. bottom</td>\n",
       "      <td>45</td>\n",
       "    </tr>\n",
       "  </tbody>\n",
       "</table>\n",
       "</div>"
      ],
      "text/plain": [
       "  Financial performance  Fund profile: Fund name\n",
       "0                a. top                        6\n",
       "1                b. mid                       24\n",
       "2             c. bottom                       45"
      ]
     },
     "execution_count": 6,
     "metadata": {},
     "output_type": "execute_result"
    }
   ],
   "source": [
    "df['Financial performance year 1'] = np.where(df['Financial performance: Month end trailing returns, year 1']>18.113940,'a. top',\n",
    "                                              np.where(df['Financial performance: Month end trailing returns, year 1']<=9.80015,'c. bottom','b. mid'))\n",
    "df['Financial performance year 3'] = np.where(df['Financial performance: Month end trailing returns, year 3']>12.091252,'a. top',\n",
    "                                              np.where(df['Financial performance: Month end trailing returns, year 3']<=8.15726,'c. bottom','b. mid'))\n",
    "df['Financial performance year 5'] = np.where(df['Financial performance: Month end trailing returns, year 5']>12.786220,'a. top',\n",
    "                                              np.where(df['Financial performance: Month end trailing returns, year 5']<=9.43515,'c. bottom','b. mid'))\n",
    "\n",
    "df['Financial performance'] = np.where((df['Financial performance year 1']=='a. top') & (df['Financial performance year 3']=='a. top') & (df['Financial performance year 5']=='a. top'), 'a. top',\n",
    "                                       np.where((df['Financial performance year 1']=='c. bottom') | (df['Financial performance year 3']=='c. bottom') | (df['Financial performance year 5']=='c. bottom'), 'c. bottom', 'b. mid'))\n",
    "\n",
    "df1 = df.groupby('Financial performance').agg({'Fund profile: Fund name':'count'}).reset_index()\n",
    "df1"
   ]
  },
  {
   "cell_type": "markdown",
   "metadata": {},
   "source": [
    "# 4. Grade\n",
    "* bins < 0.5 then top\n",
    "* bins >= 0.5 then bottom"
   ]
  },
  {
   "cell_type": "code",
   "execution_count": 7,
   "metadata": {},
   "outputs": [
    {
     "data": {
      "text/html": [
       "<div>\n",
       "<style scoped>\n",
       "    .dataframe tbody tr th:only-of-type {\n",
       "        vertical-align: middle;\n",
       "    }\n",
       "\n",
       "    .dataframe tbody tr th {\n",
       "        vertical-align: top;\n",
       "    }\n",
       "\n",
       "    .dataframe thead th {\n",
       "        text-align: right;\n",
       "    }\n",
       "</style>\n",
       "<table border=\"1\" class=\"dataframe\">\n",
       "  <thead>\n",
       "    <tr style=\"text-align: right;\">\n",
       "      <th></th>\n",
       "      <th>Grade</th>\n",
       "      <th>Fund profile: Fund name</th>\n",
       "    </tr>\n",
       "  </thead>\n",
       "  <tbody>\n",
       "    <tr>\n",
       "      <th>0</th>\n",
       "      <td>a. top</td>\n",
       "      <td>4</td>\n",
       "    </tr>\n",
       "    <tr>\n",
       "      <th>1</th>\n",
       "      <td>b. mid</td>\n",
       "      <td>31</td>\n",
       "    </tr>\n",
       "    <tr>\n",
       "      <th>2</th>\n",
       "      <td>c. bottom</td>\n",
       "      <td>40</td>\n",
       "    </tr>\n",
       "  </tbody>\n",
       "</table>\n",
       "</div>"
      ],
      "text/plain": [
       "       Grade  Fund profile: Fund name\n",
       "0     a. top                        4\n",
       "1     b. mid                       31\n",
       "2  c. bottom                       40"
      ]
     },
     "execution_count": 7,
     "metadata": {},
     "output_type": "execute_result"
    }
   ],
   "source": [
    "df['Fossil fuel grade'] = np.where(df['Fossil Free Funds: Fossil fuel grade']==0,'a. top',\n",
    "                                   np.where(df['Fossil Free Funds: Fossil fuel grade']==1,'b. mid','c. bottom'))\n",
    "df['Deforestation grade'] = np.where(df['Deforestation Free Funds: Deforestation grade']==0,'a. top',\n",
    "                                     np.where(df['Deforestation Free Funds: Deforestation grade']==1,'b. mid','c. bottom'))\n",
    "df['Gender equality grade'] = np.where(df['Gender Equality Funds: Gender equality grade']==0,'a. top',\n",
    "                                       np.where(df['Gender Equality Funds: Gender equality grade']==1,'b. mid','c. bottom'))\n",
    "df['Civilian firearm grade'] = np.where(df['Gun Free Funds: Civilian firearm grade']==0,'a. top',\n",
    "                                        np.where(df['Gun Free Funds: Civilian firearm grade']==1,'b. mid','c. bottom'))\n",
    "df['Military weapon grade'] = np.where(df['Weapon Free Funds: Military weapon grade']==0,'a. top',\n",
    "                                       np.where(df['Weapon Free Funds: Military weapon grade']==1,'b. mid','c. bottom'))\n",
    "df['Tobacco grade'] = np.where(df['Tobacco Free Funds: Tobacco grade']==0,'a. top',\n",
    "                               np.where(df['Tobacco Free Funds: Tobacco grade']==1,'b. mid','c. bottom'))\n",
    "df['Prison industrial complex grade'] = np.where(df['Prison Free Funds: Prison industrial complex grade']==0,'a. top',\n",
    "                                                 np.where(df['Prison Free Funds: Prison industrial complex grade']==1,'b. mid','c. bottom'))\n",
    "\n",
    "df['Grade'] = np.where((df['Fossil fuel grade']=='a. top') & (df['Deforestation grade']=='a. top') & (df['Gender equality grade']=='a. top') & \n",
    "                       (df['Civilian firearm grade']=='a. top') & (df['Military weapon grade']=='a. top') & (df['Tobacco grade']=='a. top') & \n",
    "                       (df['Prison industrial complex grade']=='a. top'), 'a. top',\n",
    "                       np.where((df['Fossil fuel grade']=='c. bottom') | (df['Deforestation grade']=='c. bottom') | (df['Gender equality grade']=='c. bottom') | \n",
    "                                (df['Civilian firearm grade']=='c. bottom') | (df['Military weapon grade']=='c. bottom') | (df['Tobacco grade']=='c. bottom') | \n",
    "                                (df['Prison industrial complex grade']=='c. bottom'), 'c. bottom', 'b. mid'))\n",
    "\n",
    "df1 = df.groupby('Grade').agg({'Fund profile: Fund name':'count'}).reset_index()\n",
    "df1"
   ]
  },
  {
   "cell_type": "markdown",
   "metadata": {},
   "source": [
    "# 5. export dataset\n",
    "* Fund name, Grade and Financial performance\n",
    "* output dataset has 35996 rows and 12 columns"
   ]
  },
  {
   "cell_type": "code",
   "execution_count": 8,
   "metadata": {},
   "outputs": [
    {
     "data": {
      "text/plain": [
       "(75, 12)"
      ]
     },
     "execution_count": 8,
     "metadata": {},
     "output_type": "execute_result"
    }
   ],
   "source": [
    "df = df[['Fund profile: Fund name', 'Fund profile: Category group', 'Fund profile: Fund net assets', 'Fossil fuel grade', \n",
    "         'Deforestation grade', 'Gender equality grade', 'Civilian firearm grade', 'Military weapon grade', \n",
    "         'Tobacco grade', 'Prison industrial complex grade', 'Grade', 'Financial performance']]\n",
    "df.to_csv('../inputs/2_bins_financial_grade.csv', index=False)\n",
    "df.shape"
   ]
  }
 ],
 "metadata": {
  "kernelspec": {
   "display_name": "Python 3",
   "language": "python",
   "name": "python3"
  },
  "language_info": {
   "codemirror_mode": {
    "name": "ipython",
    "version": 3
   },
   "file_extension": ".py",
   "mimetype": "text/x-python",
   "name": "python",
   "nbconvert_exporter": "python",
   "pygments_lexer": "ipython3",
   "version": "3.8.5"
  }
 },
 "nbformat": 4,
 "nbformat_minor": 4
}
